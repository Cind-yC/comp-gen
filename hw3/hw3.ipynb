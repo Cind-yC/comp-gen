{
 "cells": [
  {
   "cell_type": "markdown",
   "metadata": {},
   "source": [
    "## Question 1"
   ]
  },
  {
   "cell_type": "code",
   "execution_count": 1,
   "metadata": {},
   "outputs": [
    {
     "name": "stdout",
     "output_type": "stream",
     "text": [
      "BWT length: 412\n",
      "Primary index: 10\n",
      "BWT string:\n",
      "\n",
      ".etsense__$.,eIIrftassrse,;emyleeymedntt,ee,fetetssssyeeelftttedfdtsetndntgdort_ercr__ss_metdd_____vh_hhhhhcn__a___innsseeeeax__neneeeenn__eorvlhsrhhmrmhrmhhnrnmpppplcclglbsbeccgghnnnhiiiiiddi__ooooi_nd__n_wtttttttttttttfcccctrd___vvtlgttscaabelw_auaecllaa_aao_i_r_imooei_iiiaeeoineeioa__kaaaaooatm____sii_lccmphmnn_nssssmeeeueoaaaaaeoueeeeaentta__eeo_u_____onaosaucaauoaur__________or_exac_nnaftFlbbm_inn_oeelln\n"
     ]
    }
   ],
   "source": [
    "def bwt_encode(s: str):\n",
    "    \"\"\"\n",
    "    Simple O(n^2 log n) BWT encoder using rotation matrix + sort.\n",
    "    Returns:\n",
    "        bwt_str: the BWT-encoded string\n",
    "        primary_index: index of the original string (with '$') in the sorted rotations\n",
    "    \"\"\"\n",
    "    s = s + \"$\"\n",
    "    n = len(s)\n",
    "    # all cyclic rotations\n",
    "    rows = [s[i:] + s[:i] for i in range(n)]\n",
    "    rows.sort()\n",
    "    bwt_str = \"\".join(row[-1] for row in rows)\n",
    "    primary_index = rows.index(s)\n",
    "    return bwt_str, primary_index\n",
    "\n",
    "# ---- Encode the provided string ----\n",
    "text = (\"I_am_fully_convinced_that_species_are_not_immutable;_but_that_those_belonging_to_what_are_called_\"\n",
    "        \"the_same_genera_are_lineal_descendants_of_some_other_and_generally_extinct_species,_in_the_same_\"\n",
    "        \"manner_as_the_acknowledged_varieties_of_any_one_species_are_the_descendants_of_that_species._\"\n",
    "        \"Furthermore,_I_am_convinced_that_natural_selection_has_been_the_most_important,_but_not_the_\"\n",
    "        \"exclusive,_means_of_modification.\")\n",
    "\n",
    "bwt_str, primary_index = bwt_encode(text)\n",
    "\n",
    "print(\"BWT length:\", len(bwt_str))\n",
    "print(\"Primary index:\", primary_index)\n",
    "print(\"BWT string:\\n\")\n",
    "print(bwt_str)"
   ]
  },
  {
   "cell_type": "markdown",
   "metadata": {},
   "source": [
    "## Question 2"
   ]
  },
  {
   "cell_type": "code",
   "execution_count": 2,
   "metadata": {},
   "outputs": [
    {
     "name": "stdout",
     "output_type": "stream",
     "text": [
      "Decoded length: 235\n",
      "Decoded text:\n",
      "\n",
      "We_went_up,_saw_the_structure,_we_came_back_to_Kings_and_looked_at_our_Pattersons,_and_every_section_of_our_Pattersons_we_looked_at_screamed_at_you,_Double_Helix._And_it_was_just_there._-_once_you_knew_what_to_look_for._It_was_amazing.\n",
      "\n",
      "Re-encode check passed. Primary index (for info): 17\n"
     ]
    }
   ],
   "source": [
    "def bwt_decode(bwt: str) -> str:\n",
    "    \"\"\"\n",
    "    Decode a BWT string using explicit Last-First (LF) mapping.\n",
    "    Returns the original text (without the trailing '$').\n",
    "    \"\"\"\n",
    "    from collections import defaultdict\n",
    "\n",
    "    n = len(bwt)\n",
    "    first_col = sorted(bwt)  # first column of the BWM\n",
    "\n",
    "    # Rank of each occurrence in the last column (1-based)\n",
    "    last_rank = []\n",
    "    counts = defaultdict(int)\n",
    "    for ch in bwt:\n",
    "        counts[ch] += 1\n",
    "        last_rank.append(counts[ch])\n",
    "\n",
    "    # Positions of each (ranked) character in first column\n",
    "    pos_in_first = defaultdict(list)\n",
    "    for i, ch in enumerate(first_col):\n",
    "        pos_in_first[ch].append(i)\n",
    "\n",
    "    # LF mapping: row in last column -> row in first column\n",
    "    LF = [None] * n\n",
    "    for i, ch in enumerate(bwt):\n",
    "        r = last_rank[i]  # 1-based\n",
    "        LF[i] = pos_in_first[ch][r - 1]\n",
    "\n",
    "    # Decode: start at row 0 (the row whose first_col char is '$' under standard ordering)\n",
    "    row = 0\n",
    "    out = []\n",
    "    for _ in range(n - 1):        # produce all chars except the terminal '$'\n",
    "        ch = bwt[row]\n",
    "        out.append(ch)\n",
    "        row = LF[row]\n",
    "\n",
    "    return \"\".join(reversed(out))\n",
    "\n",
    "\n",
    "# ---- Run on the provided BWT string ----\n",
    "bwt_input = (\n",
    "    \".uspe_gexr_______$..,e.orrs,sdddeedkdsuoden-tf,tyewtktttt,sewteb_ce__ww__h_PPsm_u_naseueeennnrrlmwwhWcrskkmH\"\n",
    "    \"whttv_no_nnwttzKt_l_ocoo_be___aaaooaAakiiooett_oooi_sslllfyyD__uouuueceetenagan___rru_aasanIiatt__c__saacoo\"\n",
    "    \"or_ootjeae______ir__a\"\n",
    ")\n",
    "decoded_text = bwt_decode(bwt_input)\n",
    "\n",
    "print(\"Decoded length:\", len(decoded_text))\n",
    "print(\"Decoded text:\\n\")\n",
    "print(decoded_text)\n",
    "\n",
    "# ---- Optional: verify by re-encoding ----\n",
    "bwt_check, idx = bwt_encode(decoded_text)\n",
    "assert bwt_check == bwt_input, \"Re-encode check failed!\"\n",
    "print(\"\\nRe-encode check passed. Primary index (for info):\", idx)"
   ]
  },
  {
   "cell_type": "markdown",
   "metadata": {},
   "source": [
    "## Question 3"
   ]
  },
  {
   "cell_type": "markdown",
   "metadata": {},
   "source": [
    "### Question 3a"
   ]
  },
  {
   "cell_type": "markdown",
   "metadata": {},
   "source": []
  },
  {
   "cell_type": "code",
   "execution_count": 3,
   "metadata": {},
   "outputs": [
    {
     "data": {
      "text/plain": [
       "(   coverage_n  critical_reads_c  c_over_n\n",
       " 0          10                 1  0.100000\n",
       " 1          11                 2  0.181818\n",
       " 2          12                 2  0.166667\n",
       " 3          13                 3  0.230769\n",
       " 4          14                 3  0.214286,\n",
       "      coverage_n  critical_reads_c  c_over_n\n",
       " 186         196                85  0.433673\n",
       " 187         197                86  0.436548\n",
       " 188         198                86  0.434343\n",
       " 189         199                87  0.437186\n",
       " 190         200                87  0.435000)"
      ]
     },
     "execution_count": 3,
     "metadata": {},
     "output_type": "execute_result"
    }
   ],
   "source": [
    "import math\n",
    "import pandas as pd\n",
    "import matplotlib.pyplot as plt\n",
    "from math import comb\n",
    "\n",
    "def binom_cdf_leq(k, n, p=0.5):\n",
    "    # exact CDF up to k inclusive\n",
    "    return sum(comb(n, i) * (p**i) * ((1-p)**(n-i)) for i in range(k+1))\n",
    "\n",
    "def critical_c_lower(n, alpha=0.05, p=0.5):\n",
    "    \"\"\"\n",
    "    Largest c with P[X <= c | Binom(n,p)] <= alpha.\n",
    "    If minor reads <= c, reject H0: p=0.5 (one-sided, lower-tail).\n",
    "    \"\"\"\n",
    "    c = -1\n",
    "    for k in range(n+1):\n",
    "        if binom_cdf_leq(k, n, p) <= alpha:\n",
    "            c = k\n",
    "        else:\n",
    "            break\n",
    "    return c\n",
    "\n",
    "rows = []\n",
    "for n in range(10, 201):\n",
    "    c = critical_c_lower(n, alpha=0.05, p=0.5)\n",
    "    rows.append({\"coverage_n\": n, \"critical_reads_c\": c, \"c_over_n\": c/n})\n",
    "\n",
    "df = pd.DataFrame(rows)\n",
    "df.head(), df.tail()  # quick peek"
   ]
  },
  {
   "cell_type": "code",
   "execution_count": 4,
   "metadata": {},
   "outputs": [
    {
     "data": {
      "image/png": "[encoded data removed]",
      "text/plain": [
       "<Figure size 640x480 with 1 Axes>"
      ]
     },
     "metadata": {},
     "output_type": "display_data"
    }
   ],
   "source": [
    "# Plot coverage vs c/n\n",
    "plt.figure()\n",
    "plt.plot(df[\"coverage_n\"], df[\"c_over_n\"], marker='o')\n",
    "plt.xlabel(\"Coverage (n)\")\n",
    "plt.ylabel(\"Threshold fraction c/n (reject H0 if minor reads ≤ c)\")\n",
    "plt.title(\"One-sided binomial (α=0.05) critical fraction vs coverage\")\n",
    "plt.show()\n"
   ]
  }
 ],
 "metadata": {
  "kernelspec": {
   "display_name": "asn2",
   "language": "python",
   "name": "python3"
  },
  "language_info": {
   "codemirror_mode": {
    "name": "ipython",
    "version": 3
   },
   "file_extension": ".py",
   "mimetype": "text/x-python",
   "name": "python",
   "nbconvert_exporter": "python",
   "pygments_lexer": "ipython3",
   "version": "3.10.18"
  }
 },
 "nbformat": 4,
 "nbformat_minor": 2
}

{
 "cells": [
  {
   "cell_type": "code",
   "execution_count": 1,
   "metadata": {},
   "outputs": [
    {
     "ename": "ModuleNotFoundError",
     "evalue": "No module named 'pandas'",
     "output_type": "error",
     "traceback": [
      "\u001b[0;31m---------------------------------------------------------------------------\u001b[0m",
      "\u001b[0;31mModuleNotFoundError\u001b[0m                       Traceback (most recent call last)",
      "Cell \u001b[0;32mIn[1], line 1\u001b[0m\n\u001b[0;32m----> 1\u001b[0m \u001b[38;5;28;01mimport\u001b[39;00m\u001b[38;5;250m \u001b[39m\u001b[38;5;21;01mpandas\u001b[39;00m\u001b[38;5;250m \u001b[39m\u001b[38;5;28;01mas\u001b[39;00m\u001b[38;5;250m \u001b[39m\u001b[38;5;21;01mpd\u001b[39;00m\n\u001b[1;32m      2\u001b[0m \u001b[38;5;28;01mimport\u001b[39;00m\u001b[38;5;250m \u001b[39m\u001b[38;5;21;01mos\u001b[39;00m\n\u001b[1;32m      4\u001b[0m \u001b[38;5;66;03m# Helper function to analyze chromosome files\u001b[39;00m\n",
      "\u001b[0;31mModuleNotFoundError\u001b[0m: No module named 'pandas'"
     ]
    }
   ],
   "source": [
    "import pandas as pd\n",
    "import os\n",
    "\n",
    "# Helper function to analyze chromosome files\n",
    "def analyze_chrom_sizes(file_path, species_name):\n",
    "    df = pd.read_csv(file_path, sep=\"\\t\", header=None, names=[\"chrom\", \"size\"])\n",
    "    \n",
    "    total_genome_size = df[\"size\"].sum()\n",
    "    num_chromosomes = len(df)\n",
    "    largest_chrom = df.loc[df[\"size\"].idxmax()]\n",
    "    smallest_chrom = df.loc[df[\"size\"].idxmin()]\n",
    "    mean_size = df[\"size\"].mean()\n",
    "    \n",
    "    return {\n",
    "        \"Species\": species_name,\n",
    "        \"Total genome size (bp)\": total_genome_size,\n",
    "        \"Number of chromosomes\": num_chromosomes,\n",
    "        \"Largest chromosome\": largest_chrom[\"chrom\"],\n",
    "        \"Largest size (bp)\": largest_chrom[\"size\"],\n",
    "        \"Smallest chromosome\": smallest_chrom[\"chrom\"],\n",
    "        \"Smallest size (bp)\": smallest_chrom[\"size\"],\n",
    "        \"Mean size (bp)\": mean_size\n",
    "    }"
   ]
  },
  {
   "cell_type": "code",
   "execution_count": null,
   "metadata": {},
   "outputs": [],
   "source": [
    "# define file path\n",
    "files = {\n",
    "    \"E. coli K12\": os.path.join(\"ecoli.chrom.sizes\"),\n",
    "    \"Yeast (sacCer3)\": os.path.join(\"yeast.chrom.sizes\"),\n",
    "    \"Worm (ce10)\": os.path.join(\"worm.chrom.sizes\"),\n",
    "    \"Fruit Fly (dm6)\": os.path.join(\"fly.chrom.sizes\"),\n",
    "    \"Arabidopsis (TAIR10)\": os.path.join(\"arabidopsis.chrom.sizes\"),\n",
    "    \"Tomato (v4.00)\": os.path.join(\"tomato.chrom.sizes\"),\n",
    "    \"Human (hg38)\": os.path.join(\"human.chrom.sizes\"),\n",
    "    \"Wheat (IWGSC)\": os.path.join(\"wheat.chrom.sizes\"),\n",
    "}"
   ]
  },
  {
   "cell_type": "code",
   "execution_count": null,
   "metadata": {},
   "outputs": [],
   "source": [
    "# run analysis \n",
    "results = []\n",
    "for species, path in files.items():\n",
    "    res = analyze_chrom_sizes(path, species)\n",
    "    results.append(res)\n",
    "\n",
    "summary_table = pd.DataFrame(results)\n",
    "summary_table"
   ]
  }
 ],
 "metadata": {
  "kernelspec": {
   "display_name": "Python 3",
   "language": "python",
   "name": "python3"
  },
  "language_info": {
   "codemirror_mode": {
    "name": "ipython",
    "version": 3
   },
   "file_extension": ".py",
   "mimetype": "text/x-python",
   "name": "python",
   "nbconvert_exporter": "python",
   "pygments_lexer": "ipython3",
   "version": "3.9.6"
  }
 },
 "nbformat": 4,
 "nbformat_minor": 2
}
